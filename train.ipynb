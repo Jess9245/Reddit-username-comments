{
 "cells": [
  {
   "cell_type": "markdown",
   "metadata": {},
   "source": [
    "##### The aim of this project to classify reddit comments in three distinct labels: Verterinarian, Medical Doctor and Others. The project will take place in two steps: First step would be the creation of labels for every comment gathered from the reddit platform ,utilizing the gpt 3.5 turbo LLM  and the secon step would involve the training and evaluation of created models utilizing the pretrained BERT transformer models."
   ]
  },
  {
   "cell_type": "code",
   "execution_count": 33,
   "metadata": {},
   "outputs": [],
   "source": [
    "#Import libraries\n",
    "import pandas as pd\n",
    "import psycopg2 as py\n",
    "import os\n",
    "from dotenv import load_dotenv\n",
    "pd.set_option('display.max_rows', None)"
   ]
  },
  {
   "cell_type": "code",
   "execution_count": 34,
   "metadata": {},
   "outputs": [
    {
     "data": {
      "text/plain": [
       "True"
      ]
     },
     "execution_count": 34,
     "metadata": {},
     "output_type": "execute_result"
    }
   ],
   "source": [
    "load_dotenv()"
   ]
  },
  {
   "cell_type": "markdown",
   "metadata": {},
   "source": [
    "Fisrt we import our data utilizing the psycopg2 library which provides us with a platform to connect remotely to the postgresql database."
   ]
  },
  {
   "cell_type": "code",
   "execution_count": 36,
   "metadata": {},
   "outputs": [],
   "source": [
    "#Connecting to the database/server using psycopg2\n",
    "conn=py.connect(os.environ.get('CONNECTION_STRING'))"
   ]
  },
  {
   "cell_type": "code",
   "execution_count": 4,
   "metadata": {},
   "outputs": [],
   "source": [
    "#Selecting all comments from the reddit_usernames_comments table\n",
    "sql_query_comments='SELECT * FROM reddit_usernames_comments'"
   ]
  },
  {
   "cell_type": "code",
   "execution_count": 5,
   "metadata": {},
   "outputs": [
    {
     "name": "stderr",
     "output_type": "stream",
     "text": [
      "C:\\Users\\jessica.ogwu\\AppData\\Local\\Temp\\ipykernel_36600\\822161584.py:2: UserWarning: pandas only supports SQLAlchemy connectable (engine/connection) or database string URI or sqlite3 DBAPI2 connection. Other DBAPI2 objects are not tested. Please consider using SQLAlchemy.\n",
      "  reddit_comments=pd.read_sql(sql_query_comments, conn)\n"
     ]
    }
   ],
   "source": [
    "#Reading in data using pandas\n",
    "reddit_comments=pd.read_sql(sql_query_comments, conn)"
   ]
  },
  {
   "cell_type": "code",
   "execution_count": 6,
   "metadata": {},
   "outputs": [],
   "source": [
    "#Saving data collected in a csv file for easier retrieval and data manipulation\n",
    "reddit_comments.to_csv('reddit_comments.csv')\n"
   ]
  },
  {
   "cell_type": "code",
   "execution_count": 7,
   "metadata": {},
   "outputs": [
    {
     "data": {
      "text/html": [
       "<div>\n",
       "<style scoped>\n",
       "    .dataframe tbody tr th:only-of-type {\n",
       "        vertical-align: middle;\n",
       "    }\n",
       "\n",
       "    .dataframe tbody tr th {\n",
       "        vertical-align: top;\n",
       "    }\n",
       "\n",
       "    .dataframe thead th {\n",
       "        text-align: right;\n",
       "    }\n",
       "</style>\n",
       "<table border=\"1\" class=\"dataframe\">\n",
       "  <thead>\n",
       "    <tr style=\"text-align: right;\">\n",
       "      <th></th>\n",
       "      <th>username</th>\n",
       "      <th>comments</th>\n",
       "    </tr>\n",
       "  </thead>\n",
       "  <tbody>\n",
       "    <tr>\n",
       "      <th>0</th>\n",
       "      <td>LoveAGoodTwist</td>\n",
       "      <td>Female, Kentucky.  4 years out. Work equine on...</td>\n",
       "    </tr>\n",
       "    <tr>\n",
       "      <th>1</th>\n",
       "      <td>wahznooski</td>\n",
       "      <td>As a woman of reproductive age, fuck Texas|As ...</td>\n",
       "    </tr>\n",
       "    <tr>\n",
       "      <th>2</th>\n",
       "      <td>Churro_The_fish_Girl</td>\n",
       "      <td>what makes you want to become a vet?|what make...</td>\n",
       "    </tr>\n",
       "    <tr>\n",
       "      <th>3</th>\n",
       "      <td>abarthch</td>\n",
       "      <td>I see of course there are changing variables, ...</td>\n",
       "    </tr>\n",
       "    <tr>\n",
       "      <th>4</th>\n",
       "      <td>VoodooKing</td>\n",
       "      <td>I have 412+ and faced issues because wireguard...</td>\n",
       "    </tr>\n",
       "  </tbody>\n",
       "</table>\n",
       "</div>"
      ],
      "text/plain": [
       "               username                                           comments\n",
       "0        LoveAGoodTwist  Female, Kentucky.  4 years out. Work equine on...\n",
       "1            wahznooski  As a woman of reproductive age, fuck Texas|As ...\n",
       "2  Churro_The_fish_Girl  what makes you want to become a vet?|what make...\n",
       "3              abarthch  I see of course there are changing variables, ...\n",
       "4            VoodooKing  I have 412+ and faced issues because wireguard..."
      ]
     },
     "execution_count": 7,
     "metadata": {},
     "output_type": "execute_result"
    }
   ],
   "source": [
    "#Reading in data to a pandas dataframe\n",
    "df = pd.read_csv('reddit_comments.csv', usecols=range(1, 3))\n",
    "df.head()"
   ]
  },
  {
   "cell_type": "markdown",
   "metadata": {},
   "source": [
    "Carrying out some Exploratory Data Analysis on data"
   ]
  },
  {
   "cell_type": "code",
   "execution_count": 9,
   "metadata": {},
   "outputs": [
    {
     "name": "stdout",
     "output_type": "stream",
     "text": [
      "The size of the dataframe is 3276\n"
     ]
    }
   ],
   "source": [
    "#Length of dataframe\n",
    "print(f'The size of the dataframe is', len(df))"
   ]
  },
  {
   "cell_type": "code",
   "execution_count": 10,
   "metadata": {},
   "outputs": [
    {
     "data": {
      "text/plain": [
       "(3276, 2)"
      ]
     },
     "execution_count": 10,
     "metadata": {},
     "output_type": "execute_result"
    }
   ],
   "source": [
    "df.shape"
   ]
  },
  {
   "cell_type": "markdown",
   "metadata": {},
   "source": [
    "The dataframe contains 3276 rows and 2 columns"
   ]
  },
  {
   "cell_type": "code",
   "execution_count": 11,
   "metadata": {},
   "outputs": [
    {
     "data": {
      "text/html": [
       "<div>\n",
       "<style scoped>\n",
       "    .dataframe tbody tr th:only-of-type {\n",
       "        vertical-align: middle;\n",
       "    }\n",
       "\n",
       "    .dataframe tbody tr th {\n",
       "        vertical-align: top;\n",
       "    }\n",
       "\n",
       "    .dataframe thead th {\n",
       "        text-align: right;\n",
       "    }\n",
       "</style>\n",
       "<table border=\"1\" class=\"dataframe\">\n",
       "  <thead>\n",
       "    <tr style=\"text-align: right;\">\n",
       "      <th></th>\n",
       "      <th>username</th>\n",
       "      <th>comments</th>\n",
       "    </tr>\n",
       "  </thead>\n",
       "  <tbody>\n",
       "    <tr>\n",
       "      <th>count</th>\n",
       "      <td>3275</td>\n",
       "      <td>3276</td>\n",
       "    </tr>\n",
       "    <tr>\n",
       "      <th>unique</th>\n",
       "      <td>3275</td>\n",
       "      <td>3275</td>\n",
       "    </tr>\n",
       "    <tr>\n",
       "      <th>top</th>\n",
       "      <td>LoveAGoodTwist</td>\n",
       "      <td>Why?|Why?|Why?|Why?|Why?|Why?</td>\n",
       "    </tr>\n",
       "    <tr>\n",
       "      <th>freq</th>\n",
       "      <td>1</td>\n",
       "      <td>2</td>\n",
       "    </tr>\n",
       "  </tbody>\n",
       "</table>\n",
       "</div>"
      ],
      "text/plain": [
       "              username                       comments\n",
       "count             3275                           3276\n",
       "unique            3275                           3275\n",
       "top     LoveAGoodTwist  Why?|Why?|Why?|Why?|Why?|Why?\n",
       "freq                 1                              2"
      ]
     },
     "execution_count": 11,
     "metadata": {},
     "output_type": "execute_result"
    }
   ],
   "source": [
    "#Some descriptive statistics of dataframe\n",
    "df.describe()"
   ]
  },
  {
   "cell_type": "code",
   "execution_count": 12,
   "metadata": {},
   "outputs": [
    {
     "name": "stdout",
     "output_type": "stream",
     "text": [
      "<class 'pandas.core.frame.DataFrame'>\n",
      "RangeIndex: 3276 entries, 0 to 3275\n",
      "Data columns (total 2 columns):\n",
      " #   Column    Non-Null Count  Dtype \n",
      "---  ------    --------------  ----- \n",
      " 0   username  3275 non-null   object\n",
      " 1   comments  3276 non-null   object\n",
      "dtypes: object(2)\n",
      "memory usage: 51.3+ KB\n"
     ]
    }
   ],
   "source": [
    "df.info()"
   ]
  },
  {
   "cell_type": "markdown",
   "metadata": {},
   "source": [
    "Dataframe seems to not contain null values"
   ]
  },
  {
   "cell_type": "code",
   "execution_count": 15,
   "metadata": {},
   "outputs": [
    {
     "data": {
      "text/plain": [
       "'Female, Kentucky.  4 years out. Work equine only private practice. Base salary $85k plus bonuses/production which was $20k 2023. 6 days a week Jan-June/July then variable in the off season. No limit on PTO - took ~5 weeks last year. One paid conference a year (registration/travel/ 1/2 hotel/ transportation) or online CE program. All licensures & professional group fees covered. Cell phone allowance and mileage reimbursement.|Female, Kentucky.  4 years out. Work equine only private practice. Base salary $85k plus bonuses/production which was $20k 2023. 6 days a week Jan-June/July then variable in the off season. No limit on PTO - took ~5 weeks last year. One paid conference a year (registration/travel/ 1/2 hotel/ transportation) or online CE program. All licensures & professional group fees covered. Cell phone allowance and mileage reimbursement.|Female, Kentucky.  4 years out. Work equine only private practice. Base salary $85k plus bonuses/production which was $20k 2023. 6 days a week Jan-June/July then variable in the off season. No limit on PTO - took ~5 weeks last year. One paid conference a year (registration/travel/ 1/2 hotel/ transportation) or online CE program. All licensures & professional group fees covered. Cell phone allowance and mileage reimbursement.|Female, Kentucky.  4 years out. Work equine only private practice. Base salary $85k plus bonuses/production which was $20k 2023. 6 days a week Jan-June/July then variable in the off season. No limit on PTO - took ~5 weeks last year. One paid conference a year (registration/travel/ 1/2 hotel/ transportation) or online CE program. All licensures & professional group fees covered. Cell phone allowance and mileage reimbursement.|Female, Kentucky.  4 years out. Work equine only private practice. Base salary $85k plus bonuses/production which was $20k 2023. 6 days a week Jan-June/July then variable in the off season. No limit on PTO - took ~5 weeks last year. One paid conference a year (registration/travel/ 1/2 hotel/ transportation) or online CE program. All licensures & professional group fees covered. Cell phone allowance and mileage reimbursement.|Female, Kentucky.  4 years out. Work equine only private practice. Base salary $85k plus bonuses/production which was $20k 2023. 6 days a week Jan-June/July then variable in the off season. No limit on PTO - took ~5 weeks last year. One paid conference a year (registration/travel/ 1/2 hotel/ transportation) or online CE program. All licensures & professional group fees covered. Cell phone allowance and mileage reimbursement.|Female, Kentucky.  4 years out. Work equine only private practice. Base salary $85k plus bonuses/production which was $20k 2023. 6 days a week Jan-June/July then variable in the off season. No limit on PTO - took ~5 weeks last year. One paid conference a year (registration/travel/ 1/2 hotel/ transportation) or online CE program. All licensures & professional group fees covered. Cell phone allowance and mileage reimbursement.|Female, Kentucky.  4 years out. Work equine only private practice. Base salary $85k plus bonuses/production which was $20k 2023. 6 days a week Jan-June/July then variable in the off season. No limit on PTO - took ~5 weeks last year. One paid conference a year (registration/travel/ 1/2 hotel/ transportation) or online CE program. All licensures & professional group fees covered. Cell phone allowance and mileage reimbursement.|Female, Kentucky.  4 years out. Work equine only private practice. Base salary $85k plus bonuses/production which was $20k 2023. 6 days a week Jan-June/July then variable in the off season. No limit on PTO - took ~5 weeks last year. One paid conference a year (registration/travel/ 1/2 hotel/ transportation) or online CE program. All licensures & professional group fees covered. Cell phone allowance and mileage reimbursement.|Female, Kentucky.  4 years out. Work equine only private practice. Base salary $85k plus bonuses/production which was $20k 2023. 6 days a week Jan-June/July then variable in the off season. No limit on PTO - took ~5 weeks last year. One paid conference a year (registration/travel/ 1/2 hotel/ transportation) or online CE program. All licensures & professional group fees covered. Cell phone allowance and mileage reimbursement.|Female, Kentucky.  4 years out. Work equine only private practice. Base salary $85k plus bonuses/production which was $20k 2023. 6 days a week Jan-June/July then variable in the off season. No limit on PTO - took ~5 weeks last year. One paid conference a year (registration/travel/ 1/2 hotel/ transportation) or online CE program. All licensures & professional group fees covered. Cell phone allowance and mileage reimbursement.|Female, Kentucky.  4 years out. Work equine only private practice. Base salary $85k plus bonuses/production which was $20k 2023. 6 days a week Jan-June/July then variable in the off season. No limit on PTO - took ~5 weeks last year. One paid conference a year (registration/travel/ 1/2 hotel/ transportation) or online CE program. All licensures & professional group fees covered. Cell phone allowance and mileage reimbursement.|Female, Kentucky.  4 years out. Work equine only private practice. Base salary $85k plus bonuses/production which was $20k 2023. 6 days a week Jan-June/July then variable in the off season. No limit on PTO - took ~5 weeks last year. One paid conference a year (registration/travel/ 1/2 hotel/ transportation) or online CE program. All licensures & professional group fees covered. Cell phone allowance and mileage reimbursement.|Female, Kentucky.  4 years out. Work equine only private practice. Base salary $85k plus bonuses/production which was $20k 2023. 6 days a week Jan-June/July then variable in the off season. No limit on PTO - took ~5 weeks last year. One paid conference a year (registration/travel/ 1/2 hotel/ transportation) or online CE program. All licensures & professional group fees covered. Cell phone allowance and mileage reimbursement.|Female, Kentucky.  4 years out. Work equine only private practice. Base salary $85k plus bonuses/production which was $20k 2023. 6 days a week Jan-June/July then variable in the off season. No limit on PTO - took ~5 weeks last year. One paid conference a year (registration/travel/ 1/2 hotel/ transportation) or online CE program. All licensures & professional group fees covered. Cell phone allowance and mileage reimbursement.|Female, Kentucky.  4 years out. Work equine only private practice. Base salary $85k plus bonuses/production which was $20k 2023. 6 days a week Jan-June/July then variable in the off season. No limit on PTO - took ~5 weeks last year. One paid conference a year (registration/travel/ 1/2 hotel/ transportation) or online CE program. All licensures & professional group fees covered. Cell phone allowance and mileage reimbursement.'"
      ]
     },
     "execution_count": 15,
     "metadata": {},
     "output_type": "execute_result"
    }
   ],
   "source": [
    "#Next we view some comments to check for the need for extra preprocessing\n",
    "#Viewing one comment and copying out output to check for errors and possibly diagnose the need for extra cleaning\n",
    "df['comments'][0]"
   ]
  },
  {
   "cell_type": "markdown",
   "metadata": {},
   "source": [
    "'Female, Kentucky.  4 years out. Work equine only private practice. Base salary $85k plus bonuses/production which was $20k 2023. 6 days a week Jan-June/July then variable in the off season. No limit on PTO - took ~5 weeks last year. One paid conference a year (registration/travel/ 1/2 hotel/ transportation) or online CE program. All licensures & professional group fees covered. Cell phone allowance and mileage reimbursement.|Female, Kentucky.  4 years out. Work equine only private practice. Base salary $85k plus bonuses/production which was $20k 2023. 6 days a week Jan-June/July then variable in the off season. No limit on PTO - took ~5 weeks last year. One paid conference a year (registration/travel/ 1/2 hotel/ transportation) or online CE program. All licensures & professional group fees covered. Cell phone allowance and mileage reimbursement.|Female, Kentucky.  4 years out. Work equine only private practice. Base salary $85k plus bonuses/production which was $20k 2023. 6 days a week Jan-June/July then variable in the off season. No limit on PTO - took ~5 weeks last year. One paid conference a year (registration/travel/ 1/2 hotel/ transportation) or online CE program. All licensures & professional group fees covered. Cell phone allowance and mileage reimbursement.|Female, Kentucky.  4 years out. Work equine only private practice. Base salary $85k plus bonuses/production which was $20k 2023. 6 days a week Jan-June/July then variable in the off season. No limit on PTO - took ~5 weeks last year. One paid conference a year (registration/travel/ 1/2 hotel/ transportation) or online CE program. All licensures & professional group fees covered. Cell phone allowance and mileage reimbursement.|Female, Kentucky.  4 years out. Work equine only private practice. Base salary $85k plus bonuses/production which was $20k 2023. 6 days a week Jan-June/July then variable in the off season. No limit on PTO - took ~5 weeks last year. One paid conference a year (registration/travel/ 1/2 hotel/ transportation) or online CE program. All licensures & professional group fees covered. Cell phone allowance and mileage reimbursement.|Female, Kentucky.  4 years out. Work equine only private practice. Base salary $85k plus bonuses/production which was $20k 2023. 6 days a week Jan-June/July then variable in the off season. No limit on PTO - took ~5 weeks last year. One paid conference a year (registration/travel/ 1/2 hotel/ transportation) or online CE program. All licensures & professional group fees covered. Cell phone allowance and mileage reimbursement.|Female, Kentucky.  4 years out. Work equine only private practice. Base salary $85k plus bonuses/production which was $20k 2023. 6 days a week Jan-June/July then variable in the off season. No limit on PTO - took ~5 weeks last year. One paid conference a year (registration/travel/ 1/2 hotel/ transportation) or online CE program. All licensures & professional group fees covered. Cell phone allowance and mileage reimbursement.|Female, Kentucky.  4 years out. Work equine only private practice. Base salary $85k plus bonuses/production which was $20k 2023. 6 days a week Jan-June/July then variable in the off season. No limit on PTO - took ~5 weeks last year. One paid conference a year (registration/travel/ 1/2 hotel/ transportation) or online CE program. All licensures & professional group fees covered. Cell phone allowance and mileage reimbursement.|Female, Kentucky.  4 years out. Work equine only private practice. Base salary $85k plus bonuses/production which was $20k 2023. 6 days a week Jan-June/July then variable in the off season. No limit on PTO - took ~5 weeks last year. One paid conference a year (registration/travel/ 1/2 hotel/ transportation) or online CE program. All licensures & professional group fees covered. Cell phone allowance and mileage reimbursement.|Female, Kentucky.  4 years out. Work equine only private practice. Base salary $85k plus bonuses/production which was $20k 2023. 6 days a week Jan-June/July then variable in the off season. No limit on PTO - took ~5 weeks last year. One paid conference a year (registration/travel/ 1/2 hotel/ transportation) or online CE program. All licensures & professional group fees covered. Cell phone allowance and mileage reimbursement.|Female, Kentucky.  4 years out. Work equine only private practice. Base salary $85k plus bonuses/production which was $20k 2023. 6 days a week Jan-June/July then variable in the off season. No limit on PTO - took ~5 weeks last year. One paid conference a year (registration/travel/ 1/2 hotel/ transportation) or online CE program. All licensures & professional group fees covered. Cell phone allowance and mileage reimbursement.|Female, Kentucky.  4 years out. Work equine only private practice. Base salary $85k plus bonuses/production which was $20k 2023. 6 days a week Jan-June/July then variable in the off season. No limit on PTO - took ~5 weeks last year. One paid conference a year (registration/travel/ 1/2 hotel/ transportation) or online CE program. All licensures & professional group fees covered. Cell phone allowance and mileage reimbursement.|Female, Kentucky.  4 years out. Work equine only private practice. Base salary $85k plus bonuses/production which was $20k 2023. 6 days a week Jan-June/July then variable in the off season. No limit on PTO - took ~5 weeks last year. One paid conference a year (registration/travel/ 1/2 hotel/ transportation) or online CE program. All licensures & professional group fees covered. Cell phone allowance and mileage reimbursement.|Female, Kentucky.  4 years out. Work equine only private practice. Base salary $85k plus bonuses/production which was $20k 2023. 6 days a week Jan-June/July then variable in the off season. No limit on PTO - took ~5 weeks last year. One paid conference a year (registration/travel/ 1/2 hotel/ transportation) or online CE program. All licensures & professional group fees covered. Cell phone allowance and mileage reimbursement.|Female, Kentucky.  4 years out. Work equine only private practice. Base salary $85k plus bonuses/production which was $20k 2023. 6 days a week Jan-June/July then variable in the off season. No limit on PTO - took ~5 weeks last year. One paid conference a year (registration/travel/ 1/2 hotel/ transportation) or online CE program. All licensures & professional group fees covered. Cell phone allowance and mileage reimbursement.|Female, Kentucky.  4 years out. Work equine only private practice. Base salary $85k plus bonuses/production which was $20k 2023. 6 days a week Jan-June/July then variable in the off season. No limit on PTO - took ~5 weeks last year. One paid conference a year (registration/travel/ 1/2 hotel/ transportation) or online CE program. All licensures & professional group fees covered. Cell phone allowance and mileage reimbursement.'"
   ]
  },
  {
   "cell_type": "markdown",
   "metadata": {},
   "source": [
    "Comment above shows duplication of one comment multiple times divided by pipes ('|'). It will thus be necessry to clean comments and select distinct comment from concatenation of duplicates."
   ]
  },
  {
   "cell_type": "markdown",
   "metadata": {},
   "source": [
    "### Preprocessing on the comments column"
   ]
  },
  {
   "cell_type": "code",
   "execution_count": 16,
   "metadata": {},
   "outputs": [],
   "source": [
    "from collections import OrderedDict\n",
    "\n",
    "def process_comments(comment):\n",
    "    # Split the comment by pipe and remove duplicates while preserving order\n",
    "    comment_list = comment.split('|')\n",
    "    unique_comments = list(OrderedDict.fromkeys(comment.strip() for comment in comment_list))\n",
    "    joined_comments = ' '.join(unique_comments)\n",
    "    return joined_comments  # Returns the list of unique comments\n",
    "\n",
    "# Apply the function and observe the order-preserving behavior\n",
    "df['processed_comments'] = df['comments'].apply(process_comments)"
   ]
  },
  {
   "cell_type": "code",
   "execution_count": 17,
   "metadata": {},
   "outputs": [
    {
     "data": {
      "text/html": [
       "<div>\n",
       "<style scoped>\n",
       "    .dataframe tbody tr th:only-of-type {\n",
       "        vertical-align: middle;\n",
       "    }\n",
       "\n",
       "    .dataframe tbody tr th {\n",
       "        vertical-align: top;\n",
       "    }\n",
       "\n",
       "    .dataframe thead th {\n",
       "        text-align: right;\n",
       "    }\n",
       "</style>\n",
       "<table border=\"1\" class=\"dataframe\">\n",
       "  <thead>\n",
       "    <tr style=\"text-align: right;\">\n",
       "      <th></th>\n",
       "      <th>username</th>\n",
       "      <th>comments</th>\n",
       "      <th>processed_comments</th>\n",
       "    </tr>\n",
       "  </thead>\n",
       "  <tbody>\n",
       "    <tr>\n",
       "      <th>0</th>\n",
       "      <td>LoveAGoodTwist</td>\n",
       "      <td>Female, Kentucky.  4 years out. Work equine on...</td>\n",
       "      <td>Female, Kentucky.  4 years out. Work equine on...</td>\n",
       "    </tr>\n",
       "    <tr>\n",
       "      <th>1</th>\n",
       "      <td>wahznooski</td>\n",
       "      <td>As a woman of reproductive age, fuck Texas|As ...</td>\n",
       "      <td>As a woman of reproductive age, fuck Texas</td>\n",
       "    </tr>\n",
       "    <tr>\n",
       "      <th>2</th>\n",
       "      <td>Churro_The_fish_Girl</td>\n",
       "      <td>what makes you want to become a vet?|what make...</td>\n",
       "      <td>what makes you want to become a vet?</td>\n",
       "    </tr>\n",
       "    <tr>\n",
       "      <th>3</th>\n",
       "      <td>abarthch</td>\n",
       "      <td>I see of course there are changing variables, ...</td>\n",
       "      <td>I see of course there are changing variables, ...</td>\n",
       "    </tr>\n",
       "    <tr>\n",
       "      <th>4</th>\n",
       "      <td>VoodooKing</td>\n",
       "      <td>I have 412+ and faced issues because wireguard...</td>\n",
       "      <td>I have 412+ and faced issues because wireguard...</td>\n",
       "    </tr>\n",
       "  </tbody>\n",
       "</table>\n",
       "</div>"
      ],
      "text/plain": [
       "               username                                           comments  \\\n",
       "0        LoveAGoodTwist  Female, Kentucky.  4 years out. Work equine on...   \n",
       "1            wahznooski  As a woman of reproductive age, fuck Texas|As ...   \n",
       "2  Churro_The_fish_Girl  what makes you want to become a vet?|what make...   \n",
       "3              abarthch  I see of course there are changing variables, ...   \n",
       "4            VoodooKing  I have 412+ and faced issues because wireguard...   \n",
       "\n",
       "                                  processed_comments  \n",
       "0  Female, Kentucky.  4 years out. Work equine on...  \n",
       "1         As a woman of reproductive age, fuck Texas  \n",
       "2               what makes you want to become a vet?  \n",
       "3  I see of course there are changing variables, ...  \n",
       "4  I have 412+ and faced issues because wireguard...  "
      ]
     },
     "execution_count": 17,
     "metadata": {},
     "output_type": "execute_result"
    }
   ],
   "source": [
    "#Viewing our newly processed dataframe\n",
    "df.head()"
   ]
  },
  {
   "cell_type": "code",
   "execution_count": 18,
   "metadata": {},
   "outputs": [
    {
     "data": {
      "text/plain": [
       "'Female, Kentucky.  4 years out. Work equine only private practice. Base salary $85k plus bonuses/production which was $20k 2023. 6 days a week Jan-June/July then variable in the off season. No limit on PTO - took ~5 weeks last year. One paid conference a year (registration/travel/ 1/2 hotel/ transportation) or online CE program. All licensures & professional group fees covered. Cell phone allowance and mileage reimbursement.'"
      ]
     },
     "execution_count": 18,
     "metadata": {},
     "output_type": "execute_result"
    }
   ],
   "source": [
    "df['processed_comments'][0]"
   ]
  },
  {
   "cell_type": "markdown",
   "metadata": {},
   "source": [
    "'Female, Kentucky.  4 years out. Work equine only private practice. Base salary $85k plus bonuses/production which was $20k 2023. 6 days a week Jan-June/July then variable in the off season. No limit on PTO - took ~5 weeks last year. One paid conference a year (registration/travel/ 1/2 hotel/ transportation) or online CE program. All licensures & professional group fees covered. Cell phone allowance and mileage reimbursement.'"
   ]
  },
  {
   "cell_type": "markdown",
   "metadata": {},
   "source": [
    "Data seems to be clean and ready to go."
   ]
  },
  {
   "cell_type": "markdown",
   "metadata": {},
   "source": [
    "As stated above, we begin the first step which is classifying comments into various three labels."
   ]
  },
  {
   "cell_type": "code",
   "execution_count": 170,
   "metadata": {},
   "outputs": [],
   "source": [
    "#Import libraries\n",
    "import os\n",
    "from dotenv import load_dotenv, find_dotenv\n",
    "from openai import OpenAI\n",
    "import nest_asyncio"
   ]
  },
  {
   "cell_type": "code",
   "execution_count": 171,
   "metadata": {},
   "outputs": [
    {
     "data": {
      "text/plain": [
       "True"
      ]
     },
     "execution_count": 171,
     "metadata": {},
     "output_type": "execute_result"
    }
   ],
   "source": [
    "load_dotenv(find_dotenv(), override=True)"
   ]
  },
  {
   "cell_type": "markdown",
   "metadata": {},
   "source": [
    "Next, we will call the openAI API on 10 rows to test the classification of comments into:\n",
    "1. Verterinarian\n",
    "2. Medical Doctor\n",
    "3. Others"
   ]
  },
  {
   "cell_type": "code",
   "execution_count": 244,
   "metadata": {},
   "outputs": [],
   "source": [
    "import aiohttp\n",
    "import asyncio\n",
    "from cachetools import TTLCache\n",
    "import os  # Ensure os is imported for accessing environment variables\n",
    "import pandas as pd  # Assuming pandas is imported for DataFrame operations\n",
    "\n",
    "# Apply nested asyncio patches, required for certain environments like Jupyter notebooks\n",
    "import nest_asyncio\n",
    "nest_asyncio.apply()\n",
    "\n",
    "# Create a TTL (Time-To-Live) cache to store API results for 300 seconds\n",
    "cache = TTLCache(maxsize=1000, ttl=300)\n",
    "\n",
    "# Asynchronous function to fetch classification from OpenAI API\n",
    "async def fetch_classification(session, comment, retry_count=0):\n",
    "    # Check if the result is already in cache\n",
    "    if comment in cache:\n",
    "        return cache[comment]\n",
    "    \n",
    "    # Prepare headers for the API request\n",
    "    headers = {\n",
    "        \"Authorization\": f\"Bearer {os.environ['OPENAI_API_KEY']}\",\n",
    "        \"Content-Type\": \"application/json\"\n",
    "    }\n",
    "    \n",
    "    # Prepare the payload with the prompt for classification\n",
    "    payload = {\n",
    "        \"model\": \"gpt-3.5-turbo\",\n",
    "        \"max_tokens\": 50,\n",
    "        \"messages\": [{\n",
    "            \"role\": \"user\", \n",
    "            \"content\": (\n",
    "                f\"Classify the profession based on this statement: '{comment}'. Consider the following categories:\\n\"\n",
    "                \"- Medical Doctor: Typically involves humans in a clinical or hospital setting.\\n\"\n",
    "                \"- Veterinarian: Involves animal health care, including veterinarians and related professions.\\n\"\n",
    "                \"- Others: Any profession not directly related to medical or veterinary fields.\\n\"\n",
    "                \"Provide a reason for your classification.\" \n",
    "                \"Strictly follow the response format like this 'category'|'reason'.\"\n",
    "            )\n",
    "        }]\n",
    "    }\n",
    "    \n",
    "    try:\n",
    "        # Make the API request\n",
    "        async with session.post('https://api.openai.com/v1/chat/completions', headers=headers, json=payload) as response:\n",
    "            result = await response.json()  # Parse the JSON response\n",
    "            \n",
    "            # Handle API errors and retry if necessary\n",
    "            if 'error' in result:\n",
    "                if retry_count < 5:\n",
    "                    await asyncio.sleep(20)  # Wait before retrying\n",
    "                    return await fetch_classification(session, comment, retry_count + 1)\n",
    "            \n",
    "            # Extract content from the API response\n",
    "            content = result['choices'][0]['message']['content']\n",
    "            cache[comment] = content  # Cache the result\n",
    "            return content\n",
    "    except Exception as e:\n",
    "        # Retry in case of exceptions\n",
    "        if retry_count < 5:\n",
    "            await asyncio.sleep(20)\n",
    "            return await fetch_classification(session, comment, retry_count + 1)\n",
    "        else:\n",
    "            return \"Failed to classify due to errors\", \"Repeated errors occurred.\"\n",
    "\n",
    "# Asynchronous function to classify multiple comments\n",
    "async def classify_comments(comments):\n",
    "    async with aiohttp.ClientSession() as session:\n",
    "        tasks = [fetch_classification(session, comment) for comment in comments]  # Create a list of tasks\n",
    "        return await asyncio.gather(*tasks)  # Run tasks concurrently and gather results\n",
    "\n",
    "# Copy the DataFrame (assuming df is already defined)\n",
    "df2 = df.copy()\n",
    "\n",
    "# Extract the first 10 processed comments to classify\n",
    "comments = df2['processed_comments'].head(10).tolist()\n",
    "loop = asyncio.get_event_loop()\n",
    "results = loop.run_until_complete(classify_comments(comments))  # Run the classification\n",
    "\n",
    "# Function to process results from the API and split them into label and reason\n",
    "def process_results(results):\n",
    "    processed_results = []\n",
    "    for res in results:\n",
    "        if isinstance(res, tuple):  # Handle error cases\n",
    "            processed_results.append((\"Error\", res[0]))\n",
    "        elif '|' in res:\n",
    "            processed_results.append(res.split('|'))  # Split valid responses into label and reason\n",
    "        else:\n",
    "            processed_results.append((\"Unclassified\", \"Format error or missing '|' in response\"))  # Handle format errors\n",
    "    return processed_results\n",
    "\n",
    "# Apply the processing function and create new columns in the DataFrame\n",
    "df2[['label', 'reason']] = pd.DataFrame(process_results(results), index=df2.head(10).index)\n"
   ]
  },
  {
   "cell_type": "code",
   "execution_count": 245,
   "metadata": {},
   "outputs": [
    {
     "data": {
      "text/html": [
       "<div>\n",
       "<style scoped>\n",
       "    .dataframe tbody tr th:only-of-type {\n",
       "        vertical-align: middle;\n",
       "    }\n",
       "\n",
       "    .dataframe tbody tr th {\n",
       "        vertical-align: top;\n",
       "    }\n",
       "\n",
       "    .dataframe thead th {\n",
       "        text-align: right;\n",
       "    }\n",
       "</style>\n",
       "<table border=\"1\" class=\"dataframe\">\n",
       "  <thead>\n",
       "    <tr style=\"text-align: right;\">\n",
       "      <th></th>\n",
       "      <th>username</th>\n",
       "      <th>comments</th>\n",
       "      <th>processed_comments</th>\n",
       "      <th>label</th>\n",
       "      <th>reason</th>\n",
       "    </tr>\n",
       "  </thead>\n",
       "  <tbody>\n",
       "    <tr>\n",
       "      <th>0</th>\n",
       "      <td>LoveAGoodTwist</td>\n",
       "      <td>Female, Kentucky.  4 years out. Work equine on...</td>\n",
       "      <td>Female, Kentucky.  4 years out. Work equine on...</td>\n",
       "      <td>Veterinarian</td>\n",
       "      <td>The statement mentions working in equine only ...</td>\n",
       "    </tr>\n",
       "    <tr>\n",
       "      <th>1</th>\n",
       "      <td>wahznooski</td>\n",
       "      <td>As a woman of reproductive age, fuck Texas|As ...</td>\n",
       "      <td>As a woman of reproductive age, fuck Texas</td>\n",
       "      <td>Others</td>\n",
       "      <td>The statement does not pertain to medical or v...</td>\n",
       "    </tr>\n",
       "    <tr>\n",
       "      <th>2</th>\n",
       "      <td>Churro_The_fish_Girl</td>\n",
       "      <td>what makes you want to become a vet?|what make...</td>\n",
       "      <td>what makes you want to become a vet?</td>\n",
       "      <td>Veterinarian</td>\n",
       "      <td>The statement specifically mentions the desire...</td>\n",
       "    </tr>\n",
       "    <tr>\n",
       "      <th>3</th>\n",
       "      <td>abarthch</td>\n",
       "      <td>I see of course there are changing variables, ...</td>\n",
       "      <td>I see of course there are changing variables, ...</td>\n",
       "      <td>Others</td>\n",
       "      <td>The statement does not mention anything relate...</td>\n",
       "    </tr>\n",
       "    <tr>\n",
       "      <th>4</th>\n",
       "      <td>VoodooKing</td>\n",
       "      <td>I have 412+ and faced issues because wireguard...</td>\n",
       "      <td>I have 412+ and faced issues because wireguard...</td>\n",
       "      <td>Others</td>\n",
       "      <td>The individual is discussing the setup and con...</td>\n",
       "    </tr>\n",
       "    <tr>\n",
       "      <th>5</th>\n",
       "      <td>queerofengland</td>\n",
       "      <td>Contrary to employers' belief, at will does no...</td>\n",
       "      <td>Contrary to employers' belief, at will does no...</td>\n",
       "      <td>Veterinarian</td>\n",
       "      <td>The statements focus primarily on issues relat...</td>\n",
       "    </tr>\n",
       "    <tr>\n",
       "      <th>6</th>\n",
       "      <td>tikitessie</td>\n",
       "      <td>He makes us laugh every day :) favorite cowork...</td>\n",
       "      <td>He makes us laugh every day :) favorite coworker</td>\n",
       "      <td>Others</td>\n",
       "      <td>The statement suggests that the person's profe...</td>\n",
       "    </tr>\n",
       "    <tr>\n",
       "      <th>7</th>\n",
       "      <td>theophania808</td>\n",
       "      <td>I've worked in the vet industry for years and ...</td>\n",
       "      <td>I've worked in the vet industry for years and ...</td>\n",
       "      <td>Veterinarian</td>\n",
       "      <td>The statement mentions working in the vet indu...</td>\n",
       "    </tr>\n",
       "    <tr>\n",
       "      <th>8</th>\n",
       "      <td>waterpencilboop</td>\n",
       "      <td>Wow. Those techs are really rude! It sounds li...</td>\n",
       "      <td>Wow. Those techs are really rude! It sounds li...</td>\n",
       "      <td>Others</td>\n",
       "      <td>The statement does not mention anything relate...</td>\n",
       "    </tr>\n",
       "    <tr>\n",
       "      <th>9</th>\n",
       "      <td>paxbanana0</td>\n",
       "      <td>Those are long, probably stressful days at wor...</td>\n",
       "      <td>Those are long, probably stressful days at wor...</td>\n",
       "      <td>Veterinarian</td>\n",
       "      <td>The statement mentions recommending dental wor...</td>\n",
       "    </tr>\n",
       "  </tbody>\n",
       "</table>\n",
       "</div>"
      ],
      "text/plain": [
       "               username                                           comments  \\\n",
       "0        LoveAGoodTwist  Female, Kentucky.  4 years out. Work equine on...   \n",
       "1            wahznooski  As a woman of reproductive age, fuck Texas|As ...   \n",
       "2  Churro_The_fish_Girl  what makes you want to become a vet?|what make...   \n",
       "3              abarthch  I see of course there are changing variables, ...   \n",
       "4            VoodooKing  I have 412+ and faced issues because wireguard...   \n",
       "5        queerofengland  Contrary to employers' belief, at will does no...   \n",
       "6            tikitessie  He makes us laugh every day :) favorite cowork...   \n",
       "7         theophania808  I've worked in the vet industry for years and ...   \n",
       "8       waterpencilboop  Wow. Those techs are really rude! It sounds li...   \n",
       "9            paxbanana0  Those are long, probably stressful days at wor...   \n",
       "\n",
       "                                  processed_comments         label  \\\n",
       "0  Female, Kentucky.  4 years out. Work equine on...  Veterinarian   \n",
       "1         As a woman of reproductive age, fuck Texas        Others   \n",
       "2               what makes you want to become a vet?  Veterinarian   \n",
       "3  I see of course there are changing variables, ...        Others   \n",
       "4  I have 412+ and faced issues because wireguard...        Others   \n",
       "5  Contrary to employers' belief, at will does no...  Veterinarian   \n",
       "6   He makes us laugh every day :) favorite coworker        Others   \n",
       "7  I've worked in the vet industry for years and ...  Veterinarian   \n",
       "8  Wow. Those techs are really rude! It sounds li...        Others   \n",
       "9  Those are long, probably stressful days at wor...  Veterinarian   \n",
       "\n",
       "                                              reason  \n",
       "0  The statement mentions working in equine only ...  \n",
       "1  The statement does not pertain to medical or v...  \n",
       "2  The statement specifically mentions the desire...  \n",
       "3  The statement does not mention anything relate...  \n",
       "4  The individual is discussing the setup and con...  \n",
       "5  The statements focus primarily on issues relat...  \n",
       "6  The statement suggests that the person's profe...  \n",
       "7  The statement mentions working in the vet indu...  \n",
       "8  The statement does not mention anything relate...  \n",
       "9  The statement mentions recommending dental wor...  "
      ]
     },
     "execution_count": 245,
     "metadata": {},
     "output_type": "execute_result"
    }
   ],
   "source": [
    "#Viewing results \n",
    "df2.head(10)"
   ]
  },
  {
   "cell_type": "markdown",
   "metadata": {},
   "source": [
    "Relatively good output. However, due to API rate limit constraint, couldn't call the function on all 3000+ rows. Went ahead to pass only the first 1000 rows."
   ]
  },
  {
   "cell_type": "code",
   "execution_count": 247,
   "metadata": {},
   "outputs": [],
   "source": [
    "import pandas as pd\n",
    "import aiohttp\n",
    "import asyncio\n",
    "import nest_asyncio\n",
    "import os\n",
    "from cachetools import TTLCache\n",
    "\n",
    "nest_asyncio.apply()\n",
    "cache = TTLCache(maxsize=1000, ttl=300)\n",
    "\n",
    "async def fetch_classification(session, comment, retry_count=0):\n",
    "    if comment in cache:\n",
    "        return cache[comment]\n",
    "    \n",
    "    headers = {\n",
    "        \"Authorization\": f\"Bearer {os.environ['OPENAI_API_KEY']}\",\n",
    "        \"Content-Type\": \"application/json\"\n",
    "    }\n",
    "    payload = {\n",
    "        \"model\": \"gpt-3.5-turbo\",\n",
    "        \"max_tokens\": 50,\n",
    "        \"messages\": [{\n",
    "            \"role\": \"user\", \n",
    "            \"content\": (\n",
    "                f\"Classify the profession based on this statement: '{comment}'. Consider the following categories:\\n\"\n",
    "                \"- Medical Doctor: Typically involves humans in a clinical or hospital setting.\\n\"\n",
    "                \"- Veterinarian: Involves animal health care, including veterinarians and related professions.\\n\"\n",
    "                \"- Others: Any profession not directly related to medical or veterinary fields.\\n\"\n",
    "                \"Provide a reason for your classification.\" \n",
    "                \"Strictly follow the response format like this 'category'|'reason'.\"\n",
    "            )\n",
    "        }]\n",
    "    }\n",
    "    try:\n",
    "        async with session.post('https://api.openai.com/v1/chat/completions', headers=headers, json=payload) as response:\n",
    "            result = await response.json()\n",
    "            if 'error' in result:\n",
    "                if retry_count < 5:\n",
    "                    await asyncio.sleep(20)\n",
    "                    return await fetch_classification(session, comment, retry_count + 1)\n",
    "            content = result['choices'][0]['message']['content']\n",
    "            cache[comment] = content\n",
    "            return content\n",
    "    except Exception as e:\n",
    "        if retry_count < 5:\n",
    "            await asyncio.sleep(20)\n",
    "            return await fetch_classification(session, comment, retry_count + 1)\n",
    "        else:\n",
    "            return \"Failed to classify due to errors\", \"Repeated errors occurred.\"\n",
    "\n",
    "async def classify_comments(comments):\n",
    "    async with aiohttp.ClientSession() as session:\n",
    "        tasks = [fetch_classification(session, comment) for comment in comments]\n",
    "        return await asyncio.gather(*tasks)\n",
    "\n",
    "def process_results(results):\n",
    "    processed_results = []\n",
    "    for res in results:\n",
    "        if isinstance(res, tuple):\n",
    "            processed_results.append((\"Error\", res[0]))\n",
    "        elif '|' in res:\n",
    "            processed_results.append(res.split('|'))\n",
    "        else:\n",
    "            processed_results.append((\"Unclassified\", \"Format error or missing '|' in response\"))\n",
    "    return processed_results\n",
    "\n",
    "def process_in_chunks(dataframe, chunk_size=10):\n",
    "    final_df = pd.DataFrame()\n",
    "    for start in range(0, dataframe.shape[0], chunk_size):\n",
    "        end = start + chunk_size\n",
    "        subset = dataframe.iloc[start:end]\n",
    "        comments = subset['processed_comments'].tolist()\n",
    "        loop = asyncio.get_event_loop()\n",
    "        results = loop.run_until_complete(classify_comments(comments))\n",
    "        processed_data = process_results(results)\n",
    "        temp_df = pd.DataFrame(processed_data, columns=['label', 'reason'], index=subset.index)\n",
    "        final_df = pd.concat([final_df, temp_df])\n",
    "    return final_df\n",
    "\n",
    "# Apply the function to the top 1000 DataFrame\n",
    "df2 = df.iloc[0:1000]\n",
    "final_results_df = process_in_chunks(df2)\n",
    "\n"
   ]
  },
  {
   "cell_type": "code",
   "execution_count": 254,
   "metadata": {},
   "outputs": [
    {
     "name": "stderr",
     "output_type": "stream",
     "text": [
      "/var/folders/kl/wfsfkbsn3y71j3wwn8b25pzr0000gn/T/ipykernel_85240/2636324001.py:2: SettingWithCopyWarning: \n",
      "A value is trying to be set on a copy of a slice from a DataFrame.\n",
      "Try using .loc[row_indexer,col_indexer] = value instead\n",
      "\n",
      "See the caveats in the documentation: https://pandas.pydata.org/pandas-docs/stable/user_guide/indexing.html#returning-a-view-versus-a-copy\n",
      "  new_df[['label', 'reason']] = final_results_df\n",
      "/var/folders/kl/wfsfkbsn3y71j3wwn8b25pzr0000gn/T/ipykernel_85240/2636324001.py:2: SettingWithCopyWarning: \n",
      "A value is trying to be set on a copy of a slice from a DataFrame.\n",
      "Try using .loc[row_indexer,col_indexer] = value instead\n",
      "\n",
      "See the caveats in the documentation: https://pandas.pydata.org/pandas-docs/stable/user_guide/indexing.html#returning-a-view-versus-a-copy\n",
      "  new_df[['label', 'reason']] = final_results_df\n"
     ]
    }
   ],
   "source": [
    "#Creating a new df with label and reason\n",
    "new_df = df.iloc[0:1000]\n",
    "new_df[['label', 'reason']] = final_results_df"
   ]
  },
  {
   "cell_type": "code",
   "execution_count": 258,
   "metadata": {},
   "outputs": [
    {
     "data": {
      "text/html": [
       "<div>\n",
       "<style scoped>\n",
       "    .dataframe tbody tr th:only-of-type {\n",
       "        vertical-align: middle;\n",
       "    }\n",
       "\n",
       "    .dataframe tbody tr th {\n",
       "        vertical-align: top;\n",
       "    }\n",
       "\n",
       "    .dataframe thead th {\n",
       "        text-align: right;\n",
       "    }\n",
       "</style>\n",
       "<table border=\"1\" class=\"dataframe\">\n",
       "  <thead>\n",
       "    <tr style=\"text-align: right;\">\n",
       "      <th></th>\n",
       "      <th>username</th>\n",
       "      <th>comments</th>\n",
       "      <th>processed_comments</th>\n",
       "      <th>label</th>\n",
       "      <th>reason</th>\n",
       "    </tr>\n",
       "  </thead>\n",
       "  <tbody>\n",
       "    <tr>\n",
       "      <th>0</th>\n",
       "      <td>LoveAGoodTwist</td>\n",
       "      <td>Female, Kentucky.  4 years out. Work equine on...</td>\n",
       "      <td>Female, Kentucky.  4 years out. Work equine on...</td>\n",
       "      <td>Category: Veterinarian</td>\n",
       "      <td>The statement mentions working in equine-only...</td>\n",
       "    </tr>\n",
       "    <tr>\n",
       "      <th>1</th>\n",
       "      <td>wahznooski</td>\n",
       "      <td>As a woman of reproductive age, fuck Texas|As ...</td>\n",
       "      <td>As a woman of reproductive age, fuck Texas</td>\n",
       "      <td>Others</td>\n",
       "      <td>The statement does not specifically mention an...</td>\n",
       "    </tr>\n",
       "    <tr>\n",
       "      <th>2</th>\n",
       "      <td>Churro_The_fish_Girl</td>\n",
       "      <td>what makes you want to become a vet?|what make...</td>\n",
       "      <td>what makes you want to become a vet?</td>\n",
       "      <td>Veterinarian</td>\n",
       "      <td>The question specifically mentions becoming a ...</td>\n",
       "    </tr>\n",
       "    <tr>\n",
       "      <th>3</th>\n",
       "      <td>abarthch</td>\n",
       "      <td>I see of course there are changing variables, ...</td>\n",
       "      <td>I see of course there are changing variables, ...</td>\n",
       "      <td>Others</td>\n",
       "      <td>The statement does not relate to medical or ve...</td>\n",
       "    </tr>\n",
       "    <tr>\n",
       "      <th>4</th>\n",
       "      <td>VoodooKing</td>\n",
       "      <td>I have 412+ and faced issues because wireguard...</td>\n",
       "      <td>I have 412+ and faced issues because wireguard...</td>\n",
       "      <td>Others</td>\n",
       "      <td>The statement provided does not indicate any d...</td>\n",
       "    </tr>\n",
       "  </tbody>\n",
       "</table>\n",
       "</div>"
      ],
      "text/plain": [
       "               username                                           comments  \\\n",
       "0        LoveAGoodTwist  Female, Kentucky.  4 years out. Work equine on...   \n",
       "1            wahznooski  As a woman of reproductive age, fuck Texas|As ...   \n",
       "2  Churro_The_fish_Girl  what makes you want to become a vet?|what make...   \n",
       "3              abarthch  I see of course there are changing variables, ...   \n",
       "4            VoodooKing  I have 412+ and faced issues because wireguard...   \n",
       "\n",
       "                                  processed_comments                    label  \\\n",
       "0  Female, Kentucky.  4 years out. Work equine on...  Category: Veterinarian    \n",
       "1         As a woman of reproductive age, fuck Texas                   Others   \n",
       "2               what makes you want to become a vet?             Veterinarian   \n",
       "3  I see of course there are changing variables, ...                   Others   \n",
       "4  I have 412+ and faced issues because wireguard...                   Others   \n",
       "\n",
       "                                              reason  \n",
       "0   The statement mentions working in equine-only...  \n",
       "1  The statement does not specifically mention an...  \n",
       "2  The question specifically mentions becoming a ...  \n",
       "3  The statement does not relate to medical or ve...  \n",
       "4  The statement provided does not indicate any d...  "
      ]
     },
     "execution_count": 258,
     "metadata": {},
     "output_type": "execute_result"
    }
   ],
   "source": [
    "#First 5 rows in new df\n",
    "new_df.head()"
   ]
  },
  {
   "cell_type": "markdown",
   "metadata": {},
   "source": [
    "From above, some comments seemto have inconsistent labels, like 'category:Veterinarian', next, we clean up for consistency."
   ]
  },
  {
   "cell_type": "code",
   "execution_count": 259,
   "metadata": {},
   "outputs": [
    {
     "name": "stderr",
     "output_type": "stream",
     "text": [
      "/var/folders/kl/wfsfkbsn3y71j3wwn8b25pzr0000gn/T/ipykernel_85240/4238548593.py:10: SettingWithCopyWarning: \n",
      "A value is trying to be set on a copy of a slice from a DataFrame.\n",
      "Try using .loc[row_indexer,col_indexer] = value instead\n",
      "\n",
      "See the caveats in the documentation: https://pandas.pydata.org/pandas-docs/stable/user_guide/indexing.html#returning-a-view-versus-a-copy\n",
      "  new_df['standardized_label'] = new_df['label'].apply(standardize_labels)\n"
     ]
    }
   ],
   "source": [
    "# Standardize the labels\n",
    "def standardize_labels(label):\n",
    "    label = label.lower().replace(\"'\", \"\").strip()\n",
    "    if 'veterinarian' in label:\n",
    "        return 'Veterinarian'\n",
    "    elif 'doctor' in label or 'medical' in label:\n",
    "        return 'Medical Doctor'\n",
    "    else:\n",
    "        return 'Others'\n",
    "\n",
    "new_df['standardized_label'] = new_df['label'].apply(standardize_labels)"
   ]
  },
  {
   "cell_type": "code",
   "execution_count": 261,
   "metadata": {},
   "outputs": [
    {
     "data": {
      "text/plain": [
       "standardized_label\n",
       "Others            851\n",
       "Veterinarian      140\n",
       "Medical Doctor      9\n",
       "Name: count, dtype: int64"
      ]
     },
     "execution_count": 261,
     "metadata": {},
     "output_type": "execute_result"
    }
   ],
   "source": [
    "#Getting the counts of each labels\n",
    "new_df.standardized_label.value_counts()"
   ]
  },
  {
   "cell_type": "code",
   "execution_count": 262,
   "metadata": {},
   "outputs": [
    {
     "data": {
      "text/html": [
       "<div>\n",
       "<style scoped>\n",
       "    .dataframe tbody tr th:only-of-type {\n",
       "        vertical-align: middle;\n",
       "    }\n",
       "\n",
       "    .dataframe tbody tr th {\n",
       "        vertical-align: top;\n",
       "    }\n",
       "\n",
       "    .dataframe thead th {\n",
       "        text-align: right;\n",
       "    }\n",
       "</style>\n",
       "<table border=\"1\" class=\"dataframe\">\n",
       "  <thead>\n",
       "    <tr style=\"text-align: right;\">\n",
       "      <th></th>\n",
       "      <th>username</th>\n",
       "      <th>processed_comments</th>\n",
       "      <th>standardized_label</th>\n",
       "      <th>reason</th>\n",
       "    </tr>\n",
       "  </thead>\n",
       "  <tbody>\n",
       "    <tr>\n",
       "      <th>0</th>\n",
       "      <td>LoveAGoodTwist</td>\n",
       "      <td>Female, Kentucky.  4 years out. Work equine on...</td>\n",
       "      <td>Veterinarian</td>\n",
       "      <td>The statement mentions working in equine-only...</td>\n",
       "    </tr>\n",
       "    <tr>\n",
       "      <th>1</th>\n",
       "      <td>wahznooski</td>\n",
       "      <td>As a woman of reproductive age, fuck Texas</td>\n",
       "      <td>Others</td>\n",
       "      <td>The statement does not specifically mention an...</td>\n",
       "    </tr>\n",
       "    <tr>\n",
       "      <th>2</th>\n",
       "      <td>Churro_The_fish_Girl</td>\n",
       "      <td>what makes you want to become a vet?</td>\n",
       "      <td>Veterinarian</td>\n",
       "      <td>The question specifically mentions becoming a ...</td>\n",
       "    </tr>\n",
       "    <tr>\n",
       "      <th>3</th>\n",
       "      <td>abarthch</td>\n",
       "      <td>I see of course there are changing variables, ...</td>\n",
       "      <td>Others</td>\n",
       "      <td>The statement does not relate to medical or ve...</td>\n",
       "    </tr>\n",
       "    <tr>\n",
       "      <th>4</th>\n",
       "      <td>VoodooKing</td>\n",
       "      <td>I have 412+ and faced issues because wireguard...</td>\n",
       "      <td>Others</td>\n",
       "      <td>The statement provided does not indicate any d...</td>\n",
       "    </tr>\n",
       "  </tbody>\n",
       "</table>\n",
       "</div>"
      ],
      "text/plain": [
       "               username                                 processed_comments  \\\n",
       "0        LoveAGoodTwist  Female, Kentucky.  4 years out. Work equine on...   \n",
       "1            wahznooski         As a woman of reproductive age, fuck Texas   \n",
       "2  Churro_The_fish_Girl               what makes you want to become a vet?   \n",
       "3              abarthch  I see of course there are changing variables, ...   \n",
       "4            VoodooKing  I have 412+ and faced issues because wireguard...   \n",
       "\n",
       "  standardized_label                                             reason  \n",
       "0       Veterinarian   The statement mentions working in equine-only...  \n",
       "1             Others  The statement does not specifically mention an...  \n",
       "2       Veterinarian  The question specifically mentions becoming a ...  \n",
       "3             Others  The statement does not relate to medical or ve...  \n",
       "4             Others  The statement provided does not indicate any d...  "
      ]
     },
     "execution_count": 262,
     "metadata": {},
     "output_type": "execute_result"
    }
   ],
   "source": [
    "result_df = new_df[['username','processed_comments','standardized_label','reason']]\n",
    "result_df.head()"
   ]
  },
  {
   "cell_type": "markdown",
   "metadata": {},
   "source": [
    "Due to dataset imbalance, let's generate synthetic data for catgorizations with Medical Doctor to match the amount of data we have for Veterinarian.\n",
    "\n",
    "- Total rows for Veterinarian is 140.\n",
    "- Total rows for Medical Doctor is 9.\n",
    "\n",
    "131 synthetic data for Medical Doctor is required to match that of Veterinarian."
   ]
  },
  {
   "cell_type": "code",
   "execution_count": 385,
   "metadata": {},
   "outputs": [],
   "source": [
    "import openai\n",
    "\n",
    "# Initialize the OpenAI client using your API key (ensure this key is set in your environment)\n",
    "client = openai\n",
    "\n",
    "# Define the chat completion request to generate synthetic data for medical practitioners\n",
    "chat_completion = client.chat.completions.create(\n",
    "    messages=[\n",
    "        {\n",
    "            \"role\": \"user\",\n",
    "            \"content\": (\n",
    "                # Prompt to generate synthetic data\n",
    "                \"Generate 131 examples of sentences that a medical doctor might say about their field on reddit social network.\\n\"\n",
    "                \"Ensure the max token allows for all 131 sentences to be created.\"\n",
    "            )\n",
    "        }\n",
    "    ],\n",
    "    model=\"gpt-3.5-turbo\",  # Specify the model to use\n",
    ")\n",
    "\n",
    "# The result of the API call is stored in the 'chat_completion' variable\n"
   ]
  },
  {
   "cell_type": "code",
   "execution_count": 386,
   "metadata": {},
   "outputs": [
    {
     "name": "stdout",
     "output_type": "stream",
     "text": [
      "1. As a doctor, I recommend getting regular check-ups to maintain good health.\n",
      "2. It's important to stay up-to-date on the latest advances in medical research.\n",
      "3. Always consult with a healthcare professional before making any major decisions about your health.\n",
      "4. Did you know that the average person should drink at least 8 glasses of water a day?\n",
      "5. High blood pressure can lead to serious health problems if left untreated.\n",
      "6. It's crucial to listen to your body and seek medical attention when something feels off.\n",
      "7. Maintaining a healthy diet and regular exercise routine can significantly improve your overall health.\n",
      "8. Medical science has come a long way in the past century, with new treatments and medications constantly being developed.\n",
      "9. I always encourage my patients to ask questions and be proactive about their healthcare.\n",
      "10. It's never too late to make positive changes to your lifestyle for better health outcomes.\n",
      "11. Remember to get enough sleep each night to allow your body to rest and rejuvenate.\n",
      "12. Mental health is just as important as physical health, don't neglect it.\n",
      "13. Vaccines are essential in preventing the spread of infectious diseases.\n",
      "14. Chronic stress can have a negative impact on your overall health and well-being.\n",
      "15. Early detection is key in the successful treatment of many medical conditions.\n",
      "16. The field of medicine is constantly evolving, with new technologies and treatments being developed all the time.\n",
      "17. Your genetics can play a significant role in your overall health, so it's important to be aware of your family history.\n",
      "18. It's important to practice good hygiene to prevent the spread of germs and bacteria.\n",
      "19. Regular exercise can help prevent a wide range of health issues, from heart disease to diabetes.\n",
      "20. Make sure to schedule regular screenings and tests as recommended by your healthcare provider.\n",
      "21. Mental health disorders are more common than you might think, don't be afraid to seek help if you need it.\n",
      "22. Your diet can have a major impact on your health, so it's important to eat a balanced and nutritious diet.\n",
      "23. Smoking is one of the leading causes of preventable death worldwide, so if you smoke, consider quitting.\n",
      "24. Make sure to wear sunscreen whenever you're outdoors to protect your skin from harmful UV rays.\n",
      "25. Regular physical activity can help improve your mood and reduce stress levels.\n",
      "26. It's important to seek treatment for any symptoms you may be experiencing, even if they seem minor.\n",
      "27. Sleep is crucial for your body to repair and restore itself, so make sure you're getting enough rest each night.\n",
      "28. Alcohol can have a negative impact on your health when consumed in excess, so drink in moderation.\n",
      "29. To maintain good cardiovascular health, it's important to exercise regularly and eat a heart-healthy diet.\n",
      "30. Regular dental check-ups are essential for preventing gum disease and tooth decay.\n",
      "31. Remember to take breaks throughout the day to rest and recharge, especially if you have a sedentary job.\n",
      "32. It's important to have open and honest conversations with your healthcare provider about any concerns you may have.\n",
      "33. Skin cancer is one of the most common types of cancer, so make sure to protect your skin from the sun.\n",
      "34. Make sure to wash your hands regularly to prevent the spread of germs and bacteria.\n",
      "35. Don't ignore any unusual or persistent symptoms, as they could be a sign of a serious medical condition.\n",
      "36. Regular exercise can help prevent many chronic diseases, including type 2 diabetes and hypertension.\n",
      "37. Your mental health is just as important as your physical health, so make sure to prioritize self-care.\n",
      "38. Remember to take deep breaths and practice relaxation techniques when you're feeling stressed or anxious.\n",
      "39. It's important to educate yourself about your health and be an active participant in your healthcare decisions.\n",
      "40. Cardiovascular disease is the leading cause of death worldwide, so make sure to take care of your heart.\n",
      "41. Regular eye exams are important for maintaining good vision and detecting any potential eye conditions early.\n",
      "42. It's important to have a support system in place to help you navigate any health challenges you may face.\n",
      "43. Chronic pain can have a significant impact on your quality of life, so make sure to seek treatment if you're experiencing pain.\n",
      "44. Don't be afraid to seek a second opinion if you're uncertain about a diagnosis or treatment plan.\n",
      "45. It's important to practice good oral hygiene to prevent tooth decay and gum disease.\n",
      "46. Remember to take care of your mental health by seeking therapy or counseling if you're struggling.\n",
      "47. Regular exercise can help boost your immune system and reduce your risk of illness.\n",
      "48. If you have a family history of a certain medical condition, make sure to discuss it with your healthcare provider.\n",
      "49. Pay attention to your body's signals and seek medical attention if something doesn't feel right.\n",
      "50. It's important to get enough calcium and vitamin D to maintain strong bones and prevent osteoporosis.\n",
      "51. Remember to stretch and move your body throughout the day to prevent stiffness and improve circulation.\n",
      "52. Regular mammograms and breast exams are essential for early detection of breast cancer.\n",
      "53. Don't ignore any changes in your skin, as they could be a sign of a skin condition or even cancer.\n",
      "54. Remember to wear protective gear when participating in sports or physical activities to prevent injuries.\n",
      "55. Regular check-ups with your healthcare provider can help detect any health issues early on.\n",
      "56. Brain health is just as important as physical health, so make sure to challenge your mind with puzzles and games.\n",
      "57. Mental health disorders are nothing to be ashamed of, so don't hesitate to seek help if you need it.\n",
      "58. Regular exercise can help improve your mood and reduce symptoms of anxiety and depression.\n",
      "59. Heart disease can often be prevented with lifestyle changes, such as a healthy diet and regular exercise.\n",
      "60. Stress can have a negative impact on your health, so make sure to take time to relax and unwind.\n",
      "61. Don't hesitate to ask your healthcare provider questions if you're unsure about a diagnosis or treatment plan.\n",
      "62. Make sure to get enough rest each night to allow your body to recharge and repair itself.\n",
      "63. Regular exercise can help reduce your risk of developing type 2 diabetes and other chronic conditions.\n",
      "64. Remember to wear a helmet when biking or participating in other activities that could result in head injury.\n",
      "65. It's important to practice good hand hygiene to prevent the spread of infectious diseases.\n",
      "66. Regular dental cleanings are essential for maintaining good oral health and preventing cavities.\n",
      "67. Mental health conditions affect millions of people worldwide, so don't hesitate to seek help if you're struggling.\n",
      "68. It's important to take care of your emotional well-being by seeking support from friends, family, or a therapist.\n",
      "69. Regular exercise can help improve your sleep quality and overall well-being.\n",
      "70. Make sure to protect your hearing by wearing ear protection in loud environments.\n",
      "71. It's important to have regular eye exams to detect any vision problems early and prevent eye diseases.\n",
      "72. Remember to take care of your mental health by practicing mindfulness and stress-reducing techniques.\n",
      "73. Chronic stress can have a negative impact on your immune system, making you more susceptible to illness.\n",
      "74. Regular physical activity can help improve your cardiovascular health and reduce your risk of heart disease.\n",
      "75. It's crucial to stay hydrated throughout the day to support your body's functions and prevent dehydration.\n",
      "76. Regular pap smears and pelvic exams are important for detecting cervical cancer early.\n",
      "77. The field of medicine is constantly evolving, with new technologies and treatments being developed to improve patient care.\n",
      "78. Your mental health is just as important as your physical health, so make sure to take care of yourself emotionally.\n",
      "79. Regular exercise can help improve your mood and reduce symptoms of depression and anxiety.\n",
      "80. Regular dental check-ups and cleanings can help prevent gum disease and tooth decay.\n",
      "81. Remember to practice good oral hygiene by brushing and flossing your teeth regularly.\n",
      "82. Skin cancer is one of the most common types of cancer, so make sure to protect your skin from UV rays.\n",
      "83. Mental health disorders are more common than you might think, so don't be afraid to seek help if you need it.\n",
      "84. Make sure to get enough sleep each night to allow your body to rest and repair itself.\n",
      "85. Regular exercise can help boost your immune system and reduce your risk of illness.\n",
      "86. It's important to have a support system in place to help you navigate any health challenges you may face.\n",
      "87. Chronic pain can have a significant impact on your quality of life, so make sure to seek treatment if you're experiencing pain.\n",
      "88. Don't be afraid to seek a second opinion if you're uncertain about a diagnosis or treatment plan.\n",
      "89. Remember to stretch and move your body throughout the day to prevent stiffness and improve circulation.\n",
      "90. Regular mammograms and breast exams are essential for early detection of breast cancer.\n",
      "91. Don't ignore any changes in your skin, as they could be a sign of a skin condition or even cancer.\n",
      "92. Remember to wear protective gear when participating in sports or physical activities to prevent injuries.\n",
      "93. Dental health is an important aspect of overall health, so make sure to see your dentist regularly.\n",
      "94. It's important to get enough calcium and vitamin D to maintain strong bones and prevent osteoporosis.\n",
      "95. Remember to take care of your mental health by seeking therapy or counseling if needed.\n",
      "96. Regular exercise can help boost your mood and reduce symptoms of anxiety and depression.\n",
      "97. Brain health is just as important as physical health, so make sure to challenge your mind with puzzles and games.\n",
      "98. Mental health disorders are nothing to be ashamed of, so don't hesitate to seek help if you need it.\n",
      "99. Remember to wear sunscreen to protect your skin from harmful UV rays when outdoors.\n",
      "100. Regular eye exams are important for maintaining good vision and detecting any potential eye conditions early.\n",
      "101. It's important to have open and honest conversations with your healthcare provider about any concerns you may have.\n",
      "102. Skin cancer is one of the most common types of cancer, so make sure to protect your skin from the sun.\n",
      "103. Regular exercise can help prevent many chronic diseases, including type 2 diabetes and hypertension.\n",
      "104. Your mental health is just as important as your physical health, so make sure to prioritize self-care.\n",
      "105. Cardiovascular disease is the leading cause of death worldwide, so make sure to take care of your heart.\n",
      "106. Regular dental check-ups are essential for preventing gum disease and tooth decay.\n",
      "107. Remember to take breaks throughout the day to rest and recharge, especially if you have a sedentary job.\n",
      "108. It's important to have a support system in place to help you navigate any health challenges you may face.\n",
      "109. Chronic pain can have a significant impact on your quality of life, so make sure to seek treatment if you're experiencing pain.\n",
      "110. Don't ignore any unusual or persistent symptoms, as they could be a sign of a serious medical condition.\n",
      "111. Regular exercise can help prevent a wide range of health issues, from heart disease to diabetes.\n",
      "112. Make sure to schedule regular screenings and tests as recommended by your healthcare provider.\n",
      "113. Mental health is just as important as physical health, so don't neglect it.\n",
      "114. Vaccines are essential in preventing the spread of infectious diseases.\n",
      "115. High blood pressure can lead to serious health problems if left untreated.\n",
      "116. It's crucial to listen to your body and seek medical attention when something feels off.\n",
      "117. Maintaining a healthy diet and regular exercise routine can significantly improve your overall health.\n",
      "118. Medical science has come a long way in the past century, with new treatments and medications constantly being developed.\n",
      "119. I always encourage my patients to ask questions and be proactive about their healthcare.\n",
      "120. It's never too late to make positive changes to your lifestyle for better health outcomes.\n",
      "121. Remember to get enough sleep each night to allow your body to rest and rejuvenate.\n",
      "122. Mental health is just as important as physical health, don't neglect it.\n",
      "123. Vaccines are essential in preventing the spread of infectious diseases.\n",
      "124. Chronic stress can have a negative impact on your overall health and well-being.\n",
      "125. Early detection is key in the successful treatment of many medical conditions.\n",
      "126. The field of medicine is constantly evolving, with new technologies and treatments being developed all the time.\n",
      "127. Your genetics can play a significant role in your overall health, so it's important to be aware of your family history.\n",
      "128. It's important to practice good hygiene to prevent the spread of germs and bacteria.\n",
      "129. Regular exercise can help prevent a wide range of health issues, from heart disease to diabetes.\n",
      "130. Make sure to schedule regular screenings and tests as recommended by your healthcare provider.\n",
      "131. Mental health disorders are more common than you might think, don't be afraid to seek help if you need it.\n"
     ]
    }
   ],
   "source": [
    "#Results\n",
    "json_string = chat_completion.choices[0].message.content\n",
    "print(json_string)"
   ]
  },
  {
   "cell_type": "code",
   "execution_count": 389,
   "metadata": {},
   "outputs": [
    {
     "data": {
      "text/html": [
       "<div>\n",
       "<style scoped>\n",
       "    .dataframe tbody tr th:only-of-type {\n",
       "        vertical-align: middle;\n",
       "    }\n",
       "\n",
       "    .dataframe tbody tr th {\n",
       "        vertical-align: top;\n",
       "    }\n",
       "\n",
       "    .dataframe thead th {\n",
       "        text-align: right;\n",
       "    }\n",
       "</style>\n",
       "<table border=\"1\" class=\"dataframe\">\n",
       "  <thead>\n",
       "    <tr style=\"text-align: right;\">\n",
       "      <th></th>\n",
       "      <th>processed_comments</th>\n",
       "    </tr>\n",
       "  </thead>\n",
       "  <tbody>\n",
       "    <tr>\n",
       "      <th>0</th>\n",
       "      <td>As a doctor, I recommend getting regular check...</td>\n",
       "    </tr>\n",
       "    <tr>\n",
       "      <th>1</th>\n",
       "      <td>It's important to stay up-to-date on the lates...</td>\n",
       "    </tr>\n",
       "    <tr>\n",
       "      <th>2</th>\n",
       "      <td>Always consult with a healthcare professional ...</td>\n",
       "    </tr>\n",
       "    <tr>\n",
       "      <th>3</th>\n",
       "      <td>Did you know that the average person should dr...</td>\n",
       "    </tr>\n",
       "    <tr>\n",
       "      <th>4</th>\n",
       "      <td>High blood pressure can lead to serious health...</td>\n",
       "    </tr>\n",
       "  </tbody>\n",
       "</table>\n",
       "</div>"
      ],
      "text/plain": [
       "                                  processed_comments\n",
       "0  As a doctor, I recommend getting regular check...\n",
       "1  It's important to stay up-to-date on the lates...\n",
       "2  Always consult with a healthcare professional ...\n",
       "3  Did you know that the average person should dr...\n",
       "4  High blood pressure can lead to serious health..."
      ]
     },
     "execution_count": 389,
     "metadata": {},
     "output_type": "execute_result"
    }
   ],
   "source": [
    "# Converting output to a pandas dataframe\n",
    "comments = [line.split(\". \", 1)[1] for line in json_string.strip().split(\"\\n\")]\n",
    "\n",
    "# Create a DataFrame\n",
    "synthetic_df = pd.DataFrame(comments, columns=['processed_comments'])\n",
    "synthetic_df.head()"
   ]
  },
  {
   "cell_type": "code",
   "execution_count": 392,
   "metadata": {},
   "outputs": [
    {
     "data": {
      "text/html": [
       "<div>\n",
       "<style scoped>\n",
       "    .dataframe tbody tr th:only-of-type {\n",
       "        vertical-align: middle;\n",
       "    }\n",
       "\n",
       "    .dataframe tbody tr th {\n",
       "        vertical-align: top;\n",
       "    }\n",
       "\n",
       "    .dataframe thead th {\n",
       "        text-align: right;\n",
       "    }\n",
       "</style>\n",
       "<table border=\"1\" class=\"dataframe\">\n",
       "  <thead>\n",
       "    <tr style=\"text-align: right;\">\n",
       "      <th></th>\n",
       "      <th>username</th>\n",
       "      <th>processed_comments</th>\n",
       "      <th>standardized_label</th>\n",
       "      <th>reason</th>\n",
       "    </tr>\n",
       "  </thead>\n",
       "  <tbody>\n",
       "    <tr>\n",
       "      <th>0</th>\n",
       "      <td>synthetic_0</td>\n",
       "      <td>As a doctor, I recommend getting regular check...</td>\n",
       "      <td>Medical Doctor</td>\n",
       "      <td>Synthetic Data</td>\n",
       "    </tr>\n",
       "    <tr>\n",
       "      <th>1</th>\n",
       "      <td>synthetic_1</td>\n",
       "      <td>It's important to stay up-to-date on the lates...</td>\n",
       "      <td>Medical Doctor</td>\n",
       "      <td>Synthetic Data</td>\n",
       "    </tr>\n",
       "    <tr>\n",
       "      <th>2</th>\n",
       "      <td>synthetic_2</td>\n",
       "      <td>Always consult with a healthcare professional ...</td>\n",
       "      <td>Medical Doctor</td>\n",
       "      <td>Synthetic Data</td>\n",
       "    </tr>\n",
       "    <tr>\n",
       "      <th>3</th>\n",
       "      <td>synthetic_3</td>\n",
       "      <td>Did you know that the average person should dr...</td>\n",
       "      <td>Medical Doctor</td>\n",
       "      <td>Synthetic Data</td>\n",
       "    </tr>\n",
       "    <tr>\n",
       "      <th>4</th>\n",
       "      <td>synthetic_4</td>\n",
       "      <td>High blood pressure can lead to serious health...</td>\n",
       "      <td>Medical Doctor</td>\n",
       "      <td>Synthetic Data</td>\n",
       "    </tr>\n",
       "  </tbody>\n",
       "</table>\n",
       "</div>"
      ],
      "text/plain": [
       "      username                                 processed_comments  \\\n",
       "0  synthetic_0  As a doctor, I recommend getting regular check...   \n",
       "1  synthetic_1  It's important to stay up-to-date on the lates...   \n",
       "2  synthetic_2  Always consult with a healthcare professional ...   \n",
       "3  synthetic_3  Did you know that the average person should dr...   \n",
       "4  synthetic_4  High blood pressure can lead to serious health...   \n",
       "\n",
       "  standardized_label          reason  \n",
       "0     Medical Doctor  Synthetic Data  \n",
       "1     Medical Doctor  Synthetic Data  \n",
       "2     Medical Doctor  Synthetic Data  \n",
       "3     Medical Doctor  Synthetic Data  \n",
       "4     Medical Doctor  Synthetic Data  "
      ]
     },
     "execution_count": 392,
     "metadata": {},
     "output_type": "execute_result"
    }
   ],
   "source": [
    "#Generate columns similar to those of real data\n",
    "synthetic_df['username'] = ['synthetic_' + str(i) for i in synthetic_df.index]\n",
    "synthetic_df['standardized_label'] = 'Medical Doctor'\n",
    "synthetic_df['reason'] = 'Synthetic Data'\n",
    "\n",
    "synthetic_df = synthetic_df[['username', 'processed_comments', 'standardized_label', 'reason']]\n",
    "synthetic_df.head()"
   ]
  },
  {
   "cell_type": "code",
   "execution_count": 394,
   "metadata": {},
   "outputs": [
    {
     "data": {
      "text/plain": [
       "standardized_label\n",
       "Others            851\n",
       "Veterinarian      140\n",
       "Medical Doctor    140\n",
       "Name: count, dtype: int64"
      ]
     },
     "execution_count": 394,
     "metadata": {},
     "output_type": "execute_result"
    }
   ],
   "source": [
    "#Concatenate synthetic data with original data and check counts\n",
    "concat_df = pd.concat([result_df, synthetic_df]).reset_index(drop=True)\n",
    "concat_df.standardized_label.value_counts()"
   ]
  },
  {
   "cell_type": "code",
   "execution_count": 395,
   "metadata": {},
   "outputs": [],
   "source": [
    "concat_df.to_csv('balanced_data.csv', index=False)"
   ]
  },
  {
   "cell_type": "markdown",
   "metadata": {},
   "source": [
    "Open model_with_synthetic_data.ipynb"
   ]
  },
  {
   "cell_type": "code",
   "execution_count": null,
   "metadata": {},
   "outputs": [],
   "source": []
  }
 ],
 "metadata": {
  "kernelspec": {
   "display_name": "Python 3",
   "language": "python",
   "name": "python3"
  },
  "language_info": {
   "codemirror_mode": {
    "name": "ipython",
    "version": 3
   },
   "file_extension": ".py",
   "mimetype": "text/x-python",
   "name": "python",
   "nbconvert_exporter": "python",
   "pygments_lexer": "ipython3",
   "version": "3.11.8"
  }
 },
 "nbformat": 4,
 "nbformat_minor": 2
}
